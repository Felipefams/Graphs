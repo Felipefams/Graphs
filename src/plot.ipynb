{
 "cells": [
  {
   "cell_type": "code",
   "execution_count": 3,
   "metadata": {},
   "outputs": [
    {
     "name": "stdout",
     "output_type": "stream",
     "text": [
      "[6e-06, 5.4e-06, 5.4e-06, 5.3e-06, 5.6e-06, 0.000212, 0.0002279, 0.0002545, 0.0002229, 0.0002214, 0.0278793, 0.0292979, 0.0304046, 0.031402, 0.029771, 3.0303468, 3.2430426, 3.2028385, 3.1548506, 3.1263037, 363.2936003, 369.8224248, 367.1047416, 369.5623193, 370.4739021]\n"
     ]
    }
   ],
   "source": [
    "import re\n",
    "bellman_ford = [4e-06, 2e-06, 2.7e-06, 3.5e-06, 3.2e-06, 2.89e-05, 0.0001052, \n",
    "                 0.0001882, 0.00026, 0.0003361, 0.0007419, 0.0120346, 0.0233677, \n",
    "                 0.0341997, 0.0452128, 0.0186709, 1.4405292, 2.8946588, 4.3398544, \n",
    "                 5.7021761, 0.4505699, 184.155151, 368.7245442, 554.5643614, 737.6940613]\n",
    "\n",
    "dijkstra = [0.000306, 8.12e-05, 8.1e-05, 8.04e-05, 8.25e-05, 8.41e-05, 9.6e-05, 9.78e-05,\n",
    "            0.0001001, 0.0001092, 9.78e-05, 0.0002883, 0.0003454, 0.0004427, 0.0005873, \n",
    "            0.0001624, 0.0033413, 0.0050871, 0.0069138, 0.0071268, 0.0004962, 0.0542386, \n",
    "            0.1020226, 0.1356325, 0.1743684]\n",
    "\n",
    "johnson = [3e-06, 3.4e-06, 3.4e-06, 3.3e-06, 3.6e-06, 0.0002761, 0.0002539, 0.000299, \n",
    "           0.0002465, 0.0003107, 0.026152, 0.0348468, 0.0336498, 0.0342505, 0.0352137, \n",
    "           2.982685, 3.5503699, 3.4661362, 3.2998707, 3.3280354, 358.3855341, 380.2481698, \n",
    "           389.2469798, 384.9983689, 385.7628825]\n",
    "\n",
    "opf = [0.000627, 0.0003229, 0.0004575, 0.0003214, 0.0003233, 0.0003326, 0.0003326,\n",
    "       0.0003496, 0.0004408, 0.0003356, 0.0003387, 0.0004076, 0.0004173, 0.0004443,\n",
    "       0.0005357, 0.0005928, 0.0011515, 0.001449, 0.0017139, 0.0021891, 0.0007588,\n",
    "       0.0114911, 0.0208354, 0.030573, 0.0398247]\n",
    "\n",
    "floyd_warshall = [6e-06, 5.4e-06, 5.4e-06, 5.3e-06, 5.6e-06, 0.000212, 0.0002279, \n",
    "                  0.0002545, 0.0002229, 0.0002214, 0.0278793, 0.0292979, 0.0304046,\n",
    "                  0.031402, 0.029771, 3.0303468, 3.2430426, 3.2028385, 3.1548506, \n",
    "                  3.1263037, 363.2936003, 369.8224248, 367.1047416, 369.5623193, 370.4739021]\n",
    "\n",
    "\n",
    "data_5 = [\n",
    "    \"Time taken by program is : 0.000006 sec\",\n",
    "    \"Time taken by program is : 0.000005400 sec\",\n",
    "    \"Time taken by program is : 0.000005400 sec\",\n",
    "    \"Time taken by program is : 0.000005300 sec\",\n",
    "    \"Time taken by program is : 0.000005600 sec\",\n",
    "    \"Time taken by program is : 0.000212000 sec\",\n",
    "    \"Time taken by program is : 0.000227900 sec\",\n",
    "    \"Time taken by program is : 0.000254500 sec\",\n",
    "    \"Time taken by program is : 0.000222900 sec\",\n",
    "    \"Time taken by program is : 0.000221400 sec\",\n",
    "    \"Time taken by program is : 0.027879300 sec\",\n",
    "    \"Time taken by program is : 0.029297900 sec\",\n",
    "    \"Time taken by program is : 0.030404600 sec\",\n",
    "    \"Time taken by program is : 0.031402000 sec\",\n",
    "    \"Time taken by program is : 0.029771000 sec\",\n",
    "    \"Time taken by program is : 3.030346800 sec\",\n",
    "    \"Time taken by program is : 3.243042600 sec\",\n",
    "    \"Time taken by program is : 3.202838500 sec\",\n",
    "    \"Time taken by program is : 3.154850600 sec\",\n",
    "    \"Time taken by program is : 3.126303700 sec\",\n",
    "    \"Time taken by program is : 363.293600300 sec\",\n",
    "    \"Time taken by program is : 369.822424800 sec\",\n",
    "    \"Time taken by program is : 367.104741600 sec\",\n",
    "    \"Time taken by program is : 369.562319300 sec\",\n",
    "    \"Time taken by program is : 370.473902100 sec\",\n",
    "]\n",
    "\n",
    "# Extract numeric values using regular expression\n",
    "numeric_values_5 = [float(re.search(r'\\d+\\.\\d+', item).group()) for item in data_5]\n",
    "\n",
    "print(numeric_values_5)"
   ]
  }
 ],
 "metadata": {
  "kernelspec": {
   "display_name": "Python 3",
   "language": "python",
   "name": "python3"
  },
  "language_info": {
   "codemirror_mode": {
    "name": "ipython",
    "version": 3
   },
   "file_extension": ".py",
   "mimetype": "text/x-python",
   "name": "python",
   "nbconvert_exporter": "python",
   "pygments_lexer": "ipython3",
   "version": "3.11.3"
  },
  "orig_nbformat": 4
 },
 "nbformat": 4,
 "nbformat_minor": 2
}
